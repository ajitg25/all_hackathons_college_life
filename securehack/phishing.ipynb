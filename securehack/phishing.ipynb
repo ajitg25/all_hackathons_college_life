{
 "cells": [
  {
   "cell_type": "code",
   "execution_count": null,
   "id": "23e59976",
   "metadata": {},
   "outputs": [],
   "source": [
    "import requests\n",
    "\n",
    "def check_sfh(url):\n",
    "    try:\n",
    "        response = requests.get(url)\n",
    "        csp_header = response.headers.get('Content-Security-Policy', '')\n",
    "\n",
    "        # Check for empty SFH\n",
    "        if not csp_header:\n",
    "            return -1\n",
    "            print(\"Empty SFH: Server-Side Forwarding (SFH) is not implemented.\")\n",
    "\n",
    "        # Check for SFH pointing to a different domain\n",
    "        elif \"'none'\" in csp_header or \"'self'\" in csp_header:\n",
    "            return 0\n",
    "            print(\"SFH for Different Domain: Server-Side Forwarding (SFH) is implemented, but allows loading content from a different domain.\")\n",
    "\n",
    "        # Check for valid SFH\n",
    "        elif 'frame-ancestors' in csp_header:\n",
    "            return 1\n",
    "            print(\"Valid SFH: Server-Side Forwarding (SFH) protection mechanism is likely implemented.\")\n",
    "        \n",
    "        else:\n",
    "            return -1\n",
    "            print(\"Unknown SFH configuration.\")\n",
    "\n",
    "    except requests.exceptions.RequestException:\n",
    "        return -1\n",
    "        print(\"Error occurred while accessing the URL.\")\n",
    "\n",
    "# Example usage\n",
    "url_to_check = \"https://github.com\"\n",
    "\n",
    "# Check empty SFH\n",
    "check_sfh(url_to_check)\n",
    "\n",
    "# Modify CSP header to point to a different domain\n",
    "# url_to_check_modified = \"https://example2.com\"\n",
    "# check_sfh(url_to_check_modified)\n",
    "\n",
    "# # Add 'frame-ancestors' directive to CSP header\n",
    "# url_to_check_valid = \"https://example3.com\"\n",
    "# check_sfh(url_to_check_valid)\n"
   ]
  },
  {
   "cell_type": "code",
   "execution_count": 1,
   "id": "b72ba766",
   "metadata": {},
   "outputs": [
    {
     "name": "stdout",
     "output_type": "stream",
     "text": [
      "Requirement already satisfied: selenium in c:\\users\\ajitg\\miniconda3\\lib\\site-packages (4.2.0)\n",
      "Requirement already satisfied: urllib3[secure,socks]~=1.26 in c:\\users\\ajitg\\miniconda3\\lib\\site-packages (from selenium) (1.26.15)\n",
      "Requirement already satisfied: trio~=0.17 in c:\\users\\ajitg\\miniconda3\\lib\\site-packages (from selenium) (0.22.0)\n",
      "Requirement already satisfied: trio-websocket~=0.9 in c:\\users\\ajitg\\miniconda3\\lib\\site-packages (from selenium) (0.10.3)\n",
      "Requirement already satisfied: attrs>=19.2.0 in c:\\users\\ajitg\\miniconda3\\lib\\site-packages (from trio~=0.17->selenium) (23.1.0)\n",
      "Requirement already satisfied: idna in c:\\users\\ajitg\\miniconda3\\lib\\site-packages (from trio~=0.17->selenium) (3.4)\n",
      "Requirement already satisfied: sortedcontainers in c:\\users\\ajitg\\miniconda3\\lib\\site-packages (from trio~=0.17->selenium) (2.4.0)\n",
      "Requirement already satisfied: cffi>=1.14 in c:\\users\\ajitg\\miniconda3\\lib\\site-packages (from trio~=0.17->selenium) (1.15.1)\n",
      "Requirement already satisfied: exceptiongroup>=1.0.0rc9 in c:\\users\\ajitg\\miniconda3\\lib\\site-packages (from trio~=0.17->selenium) (1.1.1)\n",
      "Requirement already satisfied: sniffio in c:\\users\\ajitg\\miniconda3\\lib\\site-packages (from trio~=0.17->selenium) (1.3.0)\n",
      "Requirement already satisfied: async-generator>=1.9 in c:\\users\\ajitg\\miniconda3\\lib\\site-packages (from trio~=0.17->selenium) (1.10)\n",
      "Requirement already satisfied: outcome in c:\\users\\ajitg\\miniconda3\\lib\\site-packages (from trio~=0.17->selenium) (1.2.0)\n",
      "Requirement already satisfied: wsproto>=0.14 in c:\\users\\ajitg\\miniconda3\\lib\\site-packages (from trio-websocket~=0.9->selenium) (1.2.0)\n",
      "Requirement already satisfied: certifi in c:\\users\\ajitg\\miniconda3\\lib\\site-packages (from urllib3[secure,socks]~=1.26->selenium) (2023.5.7)\n",
      "Requirement already satisfied: pyOpenSSL>=0.14 in c:\\users\\ajitg\\miniconda3\\lib\\site-packages (from urllib3[secure,socks]~=1.26->selenium) (22.0.0)\n",
      "Requirement already satisfied: urllib3-secure-extra in c:\\users\\ajitg\\miniconda3\\lib\\site-packages (from urllib3[secure,socks]~=1.26->selenium) (0.1.0)\n",
      "Requirement already satisfied: cryptography>=1.3.4 in c:\\users\\ajitg\\miniconda3\\lib\\site-packages (from urllib3[secure,socks]~=1.26->selenium) (38.0.1)\n",
      "Requirement already satisfied: PySocks!=1.5.7,<2.0,>=1.5.6 in c:\\users\\ajitg\\miniconda3\\lib\\site-packages (from urllib3[secure,socks]~=1.26->selenium) (1.7.1)\n",
      "Requirement already satisfied: pycparser in c:\\users\\ajitg\\miniconda3\\lib\\site-packages (from cffi>=1.14->trio~=0.17->selenium) (2.21)\n",
      "Requirement already satisfied: h11<1,>=0.9.0 in c:\\users\\ajitg\\miniconda3\\lib\\site-packages (from wsproto>=0.14->trio-websocket~=0.9->selenium) (0.14.0)\n"
     ]
    }
   ],
   "source": [
    "!pip install selenium"
   ]
  },
  {
   "cell_type": "code",
   "execution_count": 24,
   "id": "d681b59c",
   "metadata": {},
   "outputs": [
    {
     "name": "stdout",
     "output_type": "stream",
     "text": [
      "No pop-up\n"
     ]
    }
   ],
   "source": [
    "import requests\n",
    "\n",
    "def analyze_link_behavior(url):\n",
    "    # Send a GET request to the link\n",
    "    response = requests.get(url)\n",
    "\n",
    "    # Analyze the response and determine the behavior\n",
    "    if response.status_code == 200:\n",
    "        content_type = response.headers.get('content-type', '')\n",
    "        if 'html' in content_type:\n",
    "            html_content = response.text\n",
    "            # Check if right-click is disabled\n",
    "            if 'oncontextmenu=\"return false;\"' in html_content:\n",
    "                print(\"Right click Disabled and pop-up\")\n",
    "            else:\n",
    "                print(\"No pop-up\")\n",
    "        else:\n",
    "            print(\"No pop-up\")\n",
    "    else:\n",
    "        print(\"Right click with alert\")\n",
    "\n",
    "# Example usage\n",
    "url = 'https://erosnow.com/movies/mostpopular/Hindi'  # Replace with your desired URL\n",
    "analyze_link_behavior(url)"
   ]
  },
  {
   "cell_type": "code",
   "execution_count": 12,
   "id": "17ded387",
   "metadata": {},
   "outputs": [
    {
     "name": "stdout",
     "output_type": "stream",
     "text": [
      "SSL Final State: HTTP and not trusted\n"
     ]
    }
   ],
   "source": [
    "import ssl\n",
    "import socket\n",
    "\n",
    "def check_ssl_final_state(url):\n",
    "    # Establish a TCP connection to the host\n",
    "    hostname = url.split('//')[1].split('/')[0]  # Extract the hostname from the URL\n",
    "    port = 443  # Default SSL port\n",
    "    context = ssl.create_default_context()\n",
    "\n",
    "    try:\n",
    "        # Create a socket and connect to the host\n",
    "        with socket.create_connection((hostname, port)) as sock:\n",
    "            with context.wrap_socket(sock, server_hostname=hostname) as secure_sock:\n",
    "                # Get the SSL certificate details\n",
    "                cert = secure_sock.getpeercert()\n",
    "\n",
    "                # Check SSL final state conditions\n",
    "                if 'https' not in url.lower() and 'http' not in cert['subjectAltName'][0][1].lower():\n",
    "                    return \"Not HTTP nor trusted\"\n",
    "                elif 'http' in url.lower() and 'http' in cert['subjectAltName'][0][1].lower():\n",
    "                    return \"HTTP and trusted\"\n",
    "                elif 'http' in url.lower() and 'http' not in cert['subjectAltName'][0][1].lower():\n",
    "                    return \"HTTP and not trusted\"\n",
    "    except Exception as e:\n",
    "        return str(e)\n",
    "\n",
    "# Example usage\n",
    "url = 'https://github.com/nayan911/securehack'  # Replace with your desired URL\n",
    "ssl_final_state = check_ssl_final_state(url)\n",
    "print(\"SSL Final State:\", ssl_final_state)\n"
   ]
  },
  {
   "cell_type": "code",
   "execution_count": 13,
   "id": "b2531bc0",
   "metadata": {},
   "outputs": [
    {
     "name": "stdout",
     "output_type": "stream",
     "text": [
      "Request URL > 61%\n"
     ]
    }
   ],
   "source": [
    "def check_request_url(url):\n",
    "    url_length = len(url)\n",
    "    threshold = len(url) * 0.22  # 22% threshold\n",
    "\n",
    "    if url_length > threshold:\n",
    "        return -1\n",
    "        print(\"Request URL > 61%\")\n",
    "\n",
    "    elif threshold <= url_length <= (threshold * 0.61):\n",
    "        return 0\n",
    "        print(\"22% <= Request URL <= 61%\")\n",
    "\n",
    "    else:\n",
    "        return 1\n",
    "        print(\"Request URL < 22%\")\n",
    "\n",
    "# Example usage\n",
    "url_to_check = \"https://github.com/nayan911/securehack\"\n",
    "\n",
    "check_request_url(url_to_check)\n"
   ]
  },
  {
   "cell_type": "code",
   "execution_count": 14,
   "id": "493852ca",
   "metadata": {},
   "outputs": [
    {
     "name": "stdout",
     "output_type": "stream",
     "text": [
      "anchor_url > 61%\n"
     ]
    }
   ],
   "source": [
    "def check_url_of_anchor(anchor_url):\n",
    "    url_length = len(anchor_url)\n",
    "    threshold = len(anchor_url) * 0.22  # 22% threshold\n",
    "\n",
    "    if url_length > threshold:\n",
    "        return -1\n",
    "        print(\"anchor_url > 61%\")\n",
    "\n",
    "    elif threshold <= url_length <= (threshold * 0.61):\n",
    "        return 0\n",
    "        print(\"22% <= anchor_url <= 61%\")\n",
    "\n",
    "    else:\n",
    "        return 1\n",
    "        print(\"anchor_url < 22%\")\n",
    "\n",
    "# Example usage\n",
    "anchor_url_to_check = \"https://github.com/nayan911/securehack\"\n",
    "\n",
    "check_url_of_anchor(anchor_url_to_check)\n"
   ]
  },
  {
   "cell_type": "code",
   "execution_count": 16,
   "id": "61c4bfaa",
   "metadata": {},
   "outputs": [
    {
     "name": "stdout",
     "output_type": "stream",
     "text": [
      "Unable to fetch web traffic data.\n"
     ]
    }
   ],
   "source": [
    "\n"
   ]
  },
  {
   "cell_type": "code",
   "execution_count": 18,
   "id": "3baca433",
   "metadata": {},
   "outputs": [
    {
     "name": "stdout",
     "output_type": "stream",
     "text": [
      "Failed to fetch web traffic data: \n"
     ]
    }
   ],
   "source": [
    "\n"
   ]
  },
  {
   "cell_type": "code",
   "execution_count": 21,
   "id": "54a357ae",
   "metadata": {},
   "outputs": [],
   "source": []
  },
  {
   "cell_type": "code",
   "execution_count": 23,
   "id": "431f751b",
   "metadata": {},
   "outputs": [
    {
     "data": {
      "text/plain": [
       "1"
      ]
     },
     "execution_count": 23,
     "metadata": {},
     "output_type": "execute_result"
    }
   ],
   "source": [
    "def check_url_length(url):\n",
    "    url_length = len(url)\n",
    "\n",
    "    if url_length > 75:\n",
    "        return -1\n",
    "        print(\"len > 75\")\n",
    "\n",
    "    elif 54 < url_length < 75:\n",
    "        return 0\n",
    "        print(\"54 < len < 75\")\n",
    "\n",
    "    else:\n",
    "        return 1\n",
    "        print(\"len < 54\")\n",
    "\n",
    "# Example usage\n",
    "url_to_check = \"https://www.kaggle.com/\"\n",
    "\n",
    "check_url_length(url_to_check)\n"
   ]
  },
  {
   "cell_type": "code",
   "execution_count": 26,
   "id": "167c1a9b",
   "metadata": {},
   "outputs": [
    {
     "name": "stdout",
     "output_type": "stream",
     "text": [
      "Collecting python-whois\n",
      "  Downloading python-whois-0.8.0.tar.gz (109 kB)\n",
      "     ------------------------------------ 109.6/109.6 kB 317.6 kB/s eta 0:00:00\n",
      "  Preparing metadata (setup.py): started\n",
      "  Preparing metadata (setup.py): finished with status 'done'\n",
      "Collecting future\n",
      "  Using cached future-0.18.3.tar.gz (840 kB)\n",
      "  Preparing metadata (setup.py): started\n",
      "  Preparing metadata (setup.py): finished with status 'done'\n",
      "Building wheels for collected packages: python-whois, future\n",
      "  Building wheel for python-whois (setup.py): started\n",
      "  Building wheel for python-whois (setup.py): finished with status 'done'\n",
      "  Created wheel for python-whois: filename=python_whois-0.8.0-py3-none-any.whl size=103247 sha256=bac747b411be1b242ad536d85ba21c8a8e8168de975d61d4804f5cdff1ebdcd6\n",
      "  Stored in directory: c:\\users\\ajitg\\appdata\\local\\pip\\cache\\wheels\\f7\\ab\\00\\08a45a044bbdf998048131658b00796aa2ef5127b3e54995cb\n",
      "  Building wheel for future (setup.py): started\n",
      "  Building wheel for future (setup.py): finished with status 'done'\n",
      "  Created wheel for future: filename=future-0.18.3-py3-none-any.whl size=492025 sha256=b6da00a5e996485c041407a501214b843d368419d6b242c8c28780805fc5ed72\n",
      "  Stored in directory: c:\\users\\ajitg\\appdata\\local\\pip\\cache\\wheels\\69\\c0\\ce\\f2a18105d619f21239a048bcc58e98d8ce47ac824e0531f1a0\n",
      "Successfully built python-whois future\n",
      "Installing collected packages: future, python-whois\n",
      "Successfully installed future-0.18.3 python-whois-0.8.0\n"
     ]
    }
   ],
   "source": [
    "!pip install python-whois"
   ]
  },
  {
   "cell_type": "code",
   "execution_count": 30,
   "id": "2ce2240e",
   "metadata": {},
   "outputs": [
    {
     "name": "stdout",
     "output_type": "stream",
     "text": [
      "Age of domain: < 1 year\n"
     ]
    }
   ],
   "source": [
    "import whois\n",
    "from datetime import datetime\n",
    "\n",
    "def calculate_domain_age(url):\n",
    "    try:\n",
    "        domain = whois.whois(url)\n",
    "        creation_date = domain.creation_date\n",
    "\n",
    "        if isinstance(creation_date, list):\n",
    "            creation_date = creation_date[0]\n",
    "\n",
    "        current_date = datetime.now()\n",
    "        domain_age = (current_date - creation_date).days\n",
    "\n",
    "        return domain_age\n",
    "\n",
    "    except Exception as e:\n",
    "        print(\"Error fetching domain age:\", str(e))\n",
    "\n",
    "    return None\n",
    "\n",
    "# Example usage\n",
    "url_to_check = \"https://ninadsonawane.com/\"\n",
    "domain_age = calculate_domain_age(url_to_check)\n",
    "\n",
    "if domain_age is not None:\n",
    "    if domain_age < 365:\n",
    "        print(\"Age of domain: < 1 year\")\n",
    "    else:\n",
    "        print(\"Age of domain: > 1 year\")\n"
   ]
  },
  {
   "cell_type": "code",
   "execution_count": 40,
   "id": "98d370b5",
   "metadata": {},
   "outputs": [
    {
     "name": "stdout",
     "output_type": "stream",
     "text": [
      "Error resolving IP address: [Errno 11001] getaddrinfo failed\n"
     ]
    }
   ],
   "source": [
    "import socket\n",
    "\n",
    "def get_ip_address(url):\n",
    "    try:\n",
    "        # Perform DNS resolution\n",
    "        _, _, _, _, address = socket.getaddrinfo(url, None)[0]\n",
    "        ip_address = address[0]\n",
    "        return ip_address\n",
    "\n",
    "    except socket.gaierror as e:\n",
    "        print(\"Error resolving IP address:\", str(e))\n",
    "        return None\n",
    "\n",
    "# Example usage\n",
    "url_to_check = \"https://www.kaggle.com/datasets/ahmednour/website-phishing-data-set/code\"\n",
    "ip_address = get_ip_address(url_to_check)\n",
    "\n",
    "if ip_address is not None:\n",
    "    print(\"IP address:\", ip_address)\n"
   ]
  },
  {
   "cell_type": "code",
   "execution_count": 41,
   "id": "8e704bed",
   "metadata": {},
   "outputs": [
    {
     "name": "stdout",
     "output_type": "stream",
     "text": [
      "Error fetching web traffic data: Expecting value: line 1 column 1 (char 0)\n"
     ]
    }
   ],
   "source": [
    "import requests\n",
    "\n",
    "def get_web_traffic_data(url, api_key):\n",
    "    try:\n",
    "        endpoint = f\"https://api.similarweb.com/v1/website/{url}/total-traffic-and-engagement/visits?api_key={api_key}\"\n",
    "        response = requests.get(endpoint)\n",
    "        data = response.json()\n",
    "\n",
    "        # Extract the web traffic data from the API response\n",
    "        web_traffic = data.get('visits')\n",
    "\n",
    "        return web_traffic\n",
    "\n",
    "    except requests.RequestException as e:\n",
    "        print(\"Error fetching web traffic data:\", str(e))\n",
    "\n",
    "    return None\n",
    "\n",
    "# Example usage\n",
    "url_to_check = \"https://www.kaggle.com\"\n",
    "api_key = \"40f66c9bcfa7403bbf3a46584af8c691\"\n",
    "\n",
    "web_traffic = get_web_traffic_data(url_to_check, api_key)\n",
    "\n",
    "if web_traffic is not None:\n",
    "    print(\"Web Traffic:\", web_traffic)\n"
   ]
  },
  {
   "cell_type": "code",
   "execution_count": 1,
   "id": "ccb870dc",
   "metadata": {},
   "outputs": [
    {
     "ename": "NameError",
     "evalue": "name 'urlparse' is not defined",
     "output_type": "error",
     "traceback": [
      "\u001b[1;31m---------------------------------------------------------------------------\u001b[0m",
      "\u001b[1;31mNameError\u001b[0m                                 Traceback (most recent call last)",
      "Cell \u001b[1;32mIn[1], line 16\u001b[0m\n\u001b[0;32m     13\u001b[0m \u001b[38;5;66;03m# Example usage\u001b[39;00m\n\u001b[0;32m     14\u001b[0m url \u001b[38;5;241m=\u001b[39m \u001b[38;5;124m'\u001b[39m\u001b[38;5;124mhttps://bit.ly/abcdef\u001b[39m\u001b[38;5;124m'\u001b[39m\n\u001b[1;32m---> 16\u001b[0m \u001b[43mis_shortened_url\u001b[49m\u001b[43m(\u001b[49m\u001b[43murl\u001b[49m\u001b[43m)\u001b[49m\n",
      "Cell \u001b[1;32mIn[1], line 4\u001b[0m, in \u001b[0;36mis_shortened_url\u001b[1;34m(url)\u001b[0m\n\u001b[0;32m      1\u001b[0m \u001b[38;5;28;01mdef\u001b[39;00m \u001b[38;5;21mis_shortened_url\u001b[39m(url):\n\u001b[0;32m      2\u001b[0m     shortened_domains \u001b[38;5;241m=\u001b[39m [\u001b[38;5;124m'\u001b[39m\u001b[38;5;124mbit.ly\u001b[39m\u001b[38;5;124m'\u001b[39m, \u001b[38;5;124m'\u001b[39m\u001b[38;5;124mgoo.gl\u001b[39m\u001b[38;5;124m'\u001b[39m, \u001b[38;5;124m'\u001b[39m\u001b[38;5;124mtinyurl.com\u001b[39m\u001b[38;5;124m'\u001b[39m, \u001b[38;5;124m'\u001b[39m\u001b[38;5;124mt.co\u001b[39m\u001b[38;5;124m'\u001b[39m, \u001b[38;5;124m'\u001b[39m\u001b[38;5;124mow.ly\u001b[39m\u001b[38;5;124m'\u001b[39m]  \u001b[38;5;66;03m# Add more domains as needed\u001b[39;00m\n\u001b[1;32m----> 4\u001b[0m     parsed_url \u001b[38;5;241m=\u001b[39m \u001b[43murlparse\u001b[49m(url)\n\u001b[0;32m      5\u001b[0m     domain \u001b[38;5;241m=\u001b[39m parsed_url\u001b[38;5;241m.\u001b[39mnetloc\n\u001b[0;32m      7\u001b[0m     \u001b[38;5;28;01mif\u001b[39;00m(\u001b[38;5;28many\u001b[39m(domain\u001b[38;5;241m.\u001b[39mendswith(shortened_domain) \u001b[38;5;28;01mfor\u001b[39;00m shortened_domain \u001b[38;5;129;01min\u001b[39;00m shortened_domains)):\n",
      "\u001b[1;31mNameError\u001b[0m: name 'urlparse' is not defined"
     ]
    }
   ],
   "source": [
    "def is_shortened_url(url):\n",
    "    shortened_domains = ['bit.ly', 'goo.gl', 'tinyurl.com', 't.co', 'ow.ly']  # Add more domains as needed\n",
    "\n",
    "    parsed_url = urlparse(url)\n",
    "    domain = parsed_url.netloc\n",
    "    \n",
    "    if(any(domain.endswith(shortened_domain) for shortened_domain in shortened_domains)):\n",
    "        return -1\n",
    "    return 1\n",
    "    \n",
    "    return any(domain.endswith(shortened_domain) for shortened_domain in shortened_domains)\n",
    "\n",
    "# Example usage\n",
    "url = 'https://bit.ly/abcdef'\n",
    "\n",
    "is_shortened_url(url)"
   ]
  },
  {
   "cell_type": "code",
   "execution_count": 4,
   "id": "4053e725",
   "metadata": {},
   "outputs": [
    {
     "data": {
      "text/plain": [
       "1"
      ]
     },
     "execution_count": 4,
     "metadata": {},
     "output_type": "execute_result"
    }
   ],
   "source": [
    "def count_at(url):\n",
    "    x = url.count(\"@\")\n",
    "    if(x):\n",
    "        return -1\n",
    "    return 1\n",
    "\n",
    "count_at(\"AS\")\n"
   ]
  },
  {
   "cell_type": "code",
   "execution_count": 10,
   "id": "67485065",
   "metadata": {},
   "outputs": [
    {
     "data": {
      "text/plain": [
       "1"
      ]
     },
     "execution_count": 10,
     "metadata": {},
     "output_type": "execute_result"
    }
   ],
   "source": [
    "import re\n",
    "def has_double_slash(url):\n",
    "    pattern = r\"//\\Z\"\n",
    "    match = re.search(pattern, url)\n",
    "    \n",
    "    if(match is not None):\n",
    "        return -1\n",
    "    return 1\n",
    "\n",
    "has_double_slash(\"//asas/\")\n"
   ]
  },
  {
   "cell_type": "code",
   "execution_count": 12,
   "id": "6bb052ec",
   "metadata": {},
   "outputs": [
    {
     "data": {
      "text/plain": [
       "1"
      ]
     },
     "execution_count": 12,
     "metadata": {},
     "output_type": "execute_result"
    }
   ],
   "source": [
    "def count_hyphen(url):\n",
    "    x = url.count(\"-\")\n",
    "    if(x):\n",
    "        return -1\n",
    "    return 1\n",
    "\n",
    "count_at(\"AS\")\n"
   ]
  },
  {
   "cell_type": "code",
   "execution_count": 16,
   "id": "33aea088",
   "metadata": {},
   "outputs": [
    {
     "data": {
      "text/plain": [
       "-1"
      ]
     },
     "execution_count": 16,
     "metadata": {},
     "output_type": "execute_result"
    }
   ],
   "source": [
    "def count_dot(url):\n",
    "    x = url.count(\".\")\n",
    "    if(x>=3):\n",
    "        return -1\n",
    "    if(x==2):\n",
    "        return 0\n",
    "    return 1\n",
    "\n",
    "count_dot(\"uk..ac.in\")"
   ]
  },
  {
   "cell_type": "code",
   "execution_count": 19,
   "id": "67cec4fa",
   "metadata": {},
   "outputs": [
    {
     "data": {
      "text/plain": [
       "1"
      ]
     },
     "execution_count": 19,
     "metadata": {},
     "output_type": "execute_result"
    }
   ],
   "source": [
    "import whois\n",
    "from datetime import datetime, timedelta\n",
    "\n",
    "def is_domain_expiry_within_1_year(domain):\n",
    "    try:\n",
    "        domain_info = whois.whois(domain)\n",
    "        expiry_date = domain_info.expiration_date\n",
    "\n",
    "        if isinstance(expiry_date, list):\n",
    "            expiry_date = expiry_date[0]  # Take the first item if it's a list\n",
    "\n",
    "        current_date = datetime.now()\n",
    "        one_year_from_now = current_date + timedelta(days=365)\n",
    "        \n",
    "        if(expiry_date is not None and expiry_date <= one_year_from_now):\n",
    "            return -1\n",
    "        return 1\n",
    "        return expiry_date is not None and expiry_date <= one_year_from_now\n",
    "    except whois.parser.PywhoisError:\n",
    "        return False\n",
    "\n",
    "# Example usage\n",
    "domain = \"https://www.amazon.com\"\n",
    "is_domain_expiry_within_1_year(domain)\n"
   ]
  },
  {
   "cell_type": "code",
   "execution_count": 24,
   "id": "05e1289a",
   "metadata": {},
   "outputs": [
    {
     "name": "stdout",
     "output_type": "stream",
     "text": [
      "Favicon is loaded from: 1\n"
     ]
    }
   ],
   "source": [
    "import requests\n",
    "from bs4 import BeautifulSoup\n",
    "from urllib.parse import urljoin\n",
    "\n",
    "def get_favicon_domain(url):\n",
    "    response = requests.get(url)\n",
    "    soup = BeautifulSoup(response.content, 'html.parser')\n",
    "\n",
    "    favicon_tag = soup.find('link', rel='icon')\n",
    "    if favicon_tag is None:\n",
    "        return None\n",
    "\n",
    "    favicon_url = favicon_tag.get('href')\n",
    "    favicon_domain = urljoin(url, favicon_url).split('/')[2]\n",
    "    \n",
    "    a = url.split('/')\n",
    "    if(favicon_domain in a):\n",
    "        return 1\n",
    "    return -1\n",
    "        \n",
    "    \n",
    "    return favicon_domain\n",
    "\n",
    "# Example usage\n",
    "url = 'https://www.kaggle.com/code/ajitg25/phishing-websites-ensembling-model/edit'\n",
    "favicon_domain = get_favicon_domain(url)\n",
    "\n",
    "if favicon_domain is not None:\n",
    "    print(\"Favicon is loaded from:\", favicon_domain)\n",
    "else:\n",
    "    print(\"Favicon domain not found or failed to retrieve favicon.\")\n"
   ]
  },
  {
   "cell_type": "code",
   "execution_count": 26,
   "id": "5e837c39",
   "metadata": {},
   "outputs": [
    {
     "ename": "KeyboardInterrupt",
     "evalue": "",
     "output_type": "error",
     "traceback": [
      "\u001b[1;31m---------------------------------------------------------------------------\u001b[0m",
      "\u001b[1;31mKeyboardInterrupt\u001b[0m                         Traceback (most recent call last)",
      "Cell \u001b[1;32mIn[26], line 25\u001b[0m\n\u001b[0;32m     23\u001b[0m \u001b[38;5;66;03m# Example usage\u001b[39;00m\n\u001b[0;32m     24\u001b[0m url \u001b[38;5;241m=\u001b[39m \u001b[38;5;124m'\u001b[39m\u001b[38;5;124mkaggle.com\u001b[39m\u001b[38;5;124m'\u001b[39m\n\u001b[1;32m---> 25\u001b[0m \u001b[43mcheck_all_ports_open\u001b[49m\u001b[43m(\u001b[49m\u001b[43murl\u001b[49m\u001b[43m)\u001b[49m\n",
      "Cell \u001b[1;32mIn[26], line 11\u001b[0m, in \u001b[0;36mcheck_all_ports_open\u001b[1;34m(url)\u001b[0m\n\u001b[0;32m      8\u001b[0m sock \u001b[38;5;241m=\u001b[39m socket\u001b[38;5;241m.\u001b[39msocket(socket\u001b[38;5;241m.\u001b[39mAF_INET, socket\u001b[38;5;241m.\u001b[39mSOCK_STREAM)\n\u001b[0;32m      9\u001b[0m sock\u001b[38;5;241m.\u001b[39msettimeout(\u001b[38;5;241m1\u001b[39m)  \u001b[38;5;66;03m# Set a timeout value for the connection attempt\u001b[39;00m\n\u001b[1;32m---> 11\u001b[0m result \u001b[38;5;241m=\u001b[39m \u001b[43msock\u001b[49m\u001b[38;5;241;43m.\u001b[39;49m\u001b[43mconnect_ex\u001b[49m\u001b[43m(\u001b[49m\u001b[43m(\u001b[49m\u001b[43mip_address\u001b[49m\u001b[43m,\u001b[49m\u001b[43m \u001b[49m\u001b[43mport\u001b[49m\u001b[43m)\u001b[49m\u001b[43m)\u001b[49m\n\u001b[0;32m     12\u001b[0m \u001b[38;5;28;01mif\u001b[39;00m result \u001b[38;5;241m==\u001b[39m \u001b[38;5;241m0\u001b[39m:\n\u001b[0;32m     13\u001b[0m     cnt\u001b[38;5;241m+\u001b[39m\u001b[38;5;241m=\u001b[39m\u001b[38;5;241m1\u001b[39m\n",
      "\u001b[1;31mKeyboardInterrupt\u001b[0m: "
     ]
    }
   ],
   "source": [
    "##########NO\n",
    "import socket\n",
    "\n",
    "def check_all_ports_open(url):\n",
    "    try:\n",
    "        ip_address = socket.gethostbyname(url)\n",
    "        cnt =0\n",
    "        for port in range(1, 65536):\n",
    "            sock = socket.socket(socket.AF_INET, socket.SOCK_STREAM)\n",
    "            sock.settimeout(1)  # Set a timeout value for the connection attempt\n",
    "\n",
    "            result = sock.connect_ex((ip_address, port))\n",
    "            if result == 0:\n",
    "                cnt+=1\n",
    "\n",
    "            sock.close()\n",
    "        if(cnt==65535):\n",
    "            return -1\n",
    "        return 1\n",
    "\n",
    "    except socket.gaierror:\n",
    "        print(\"Invalid URL or unable to resolve IP address.\")\n",
    "\n",
    "# Example usage\n",
    "url = 'kaggle.com'\n",
    "check_all_ports_open(url)\n"
   ]
  },
  {
   "cell_type": "code",
   "execution_count": 31,
   "id": "810725f6",
   "metadata": {},
   "outputs": [
    {
     "data": {
      "text/plain": [
       "-1"
      ]
     },
     "execution_count": 31,
     "metadata": {},
     "output_type": "execute_result"
    }
   ],
   "source": [
    "def check_https(url):\n",
    "    if(\"http\" in url.lower()):\n",
    "        return -1\n",
    "    return 1\n",
    "    return \"https\" in url.lower()\n",
    "\n",
    "url = 'https://http-www.kaggle.com/code/ajitg25/phishing-websites-ensembling-model/edit'\n",
    "\n",
    "check_https(url)"
   ]
  },
  {
   "cell_type": "code",
   "execution_count": 35,
   "id": "20cb6cb7",
   "metadata": {},
   "outputs": [
    {
     "data": {
      "text/plain": [
       "1"
      ]
     },
     "execution_count": 35,
     "metadata": {},
     "output_type": "execute_result"
    }
   ],
   "source": [
    "import requests\n",
    "from bs4 import BeautifulSoup\n",
    "\n",
    "def check_form_processing(url):\n",
    "    response = requests.get(url)\n",
    "    html_content = response.text\n",
    "\n",
    "    soup = BeautifulSoup(html_content, 'html.parser')\n",
    "    form = soup.find('form')\n",
    "\n",
    "    if form is None:\n",
    "        return 1\n",
    "\n",
    "    action = form.get('action')\n",
    "    method = form.get('method')\n",
    "\n",
    "    if action and action.startswith('mailto:'):\n",
    "        return -1\n",
    "        print(\"Form data is being sent via email.\")\n",
    "    if action and action.startswith('mail:'):\n",
    "        return -1\n",
    "\n",
    "    if method and method.lower() == 'post':\n",
    "        return 1\n",
    "        print(\"Form data is being sent using the HTTP POST method.\")\n",
    "        # Further analysis of the server-side code may be required to check for email processing.\n",
    "    return 1\n",
    "    print(\"Form processing method could not be determined.\")\n",
    "\n",
    "# Example usage\n",
    "url = \"https://facebook.com\"\n",
    "check_form_processing(url)\n"
   ]
  },
  {
   "cell_type": "code",
   "execution_count": 36,
   "id": "c52187c5",
   "metadata": {},
   "outputs": [
    {
     "data": {
      "text/plain": [
       "1"
      ]
     },
     "execution_count": 36,
     "metadata": {},
     "output_type": "execute_result"
    }
   ],
   "source": [
    "from urllib.parse import urlparse\n",
    "\n",
    "def abnormal_url(url):\n",
    "    parsed_url = urlparse(url)\n",
    "    if(bool(parsed_url.hostname)):\n",
    "        return 1\n",
    "    return -1\n",
    "\n",
    "# Example usage\n",
    "url = \"https://amazon.com\"\n",
    "abnormal_url(url)\n",
    "\n"
   ]
  },
  {
   "cell_type": "code",
   "execution_count": 44,
   "id": "5daa5c07",
   "metadata": {},
   "outputs": [
    {
     "name": "stdout",
     "output_type": "stream",
     "text": [
      "Number of redirects: 0\n"
     ]
    }
   ],
   "source": [
    "import requests\n",
    "\n",
    "def count_redirects(url):\n",
    "    try:\n",
    "        count = 0\n",
    "        while True:\n",
    "            response = requests.get(url, allow_redirects=False)\n",
    "            if not response.is_redirect:\n",
    "                break\n",
    "            count += 1\n",
    "            if(count>=2):\n",
    "                return 0\n",
    "            url = response.headers['Location']\n",
    "        return 1\n",
    "    except:\n",
    "        return 0\n",
    "        print(\"Invalid URL or unable to resolve IP address.\")\n",
    "    return 1\n",
    "\n",
    "# Example usage\n",
    "url = \"https://animepahe.ru\"\n",
    "redirect_count = count_redirects(url)\n",
    "print(\"Number of redirects:\", redirect_count)\n"
   ]
  },
  {
   "cell_type": "code",
   "execution_count": 48,
   "id": "a41195c3",
   "metadata": {},
   "outputs": [
    {
     "data": {
      "text/plain": [
       "-1"
      ]
     },
     "execution_count": 48,
     "metadata": {},
     "output_type": "execute_result"
    }
   ],
   "source": [
    "import requests\n",
    "from bs4 import BeautifulSoup\n",
    "\n",
    "def count_ads(url):\n",
    "    try:\n",
    "        response = requests.get(url)\n",
    "        response.raise_for_status()\n",
    "    except requests.exceptions.RequestException as e:\n",
    "        return -1\n",
    "\n",
    "    soup = BeautifulSoup(response.content, 'html.parser')\n",
    "    ad_tags = soup.find_all(['iframe'])  # Adjust the list of HTML elements as per your requirements\n",
    "\n",
    "    ad_count = len(ad_tags)\n",
    "    if(ad_count==0):\n",
    "        return 1\n",
    "    return -1\n",
    "\n",
    "# Example usage\n",
    "url = \"https://animepahe.ru\"\n",
    "\n",
    "count_ads(url)"
   ]
  },
  {
   "cell_type": "code",
   "execution_count": 52,
   "id": "e46cea53",
   "metadata": {},
   "outputs": [
    {
     "data": {
      "text/plain": [
       "1"
      ]
     },
     "execution_count": 52,
     "metadata": {},
     "output_type": "execute_result"
    }
   ],
   "source": [
    "import socket\n",
    "\n",
    "def check_dns_record(url):\n",
    "    try:\n",
    "        hostname = url.split('//')[-1].split('/')[0]\n",
    "        ip_address = socket.gethostbyname(hostname)\n",
    "        return 1\n",
    "    except socket.gaierror:\n",
    "        return -1\n",
    "\n",
    "# Example usage\n",
    "url = \"https://kaggle.com\"\n",
    "check_dns_record(url)\n",
    "\n"
   ]
  },
  {
   "cell_type": "code",
   "execution_count": 60,
   "id": "6c5a9a69",
   "metadata": {},
   "outputs": [
    {
     "name": "stdout",
     "output_type": "stream",
     "text": [
      "Number of inbound links: 1\n"
     ]
    }
   ],
   "source": [
    "import requests\n",
    "from bs4 import BeautifulSoup\n",
    "\n",
    "def count_inbound_links(url):\n",
    "    try:\n",
    "        response = requests.get(url)\n",
    "        soup = BeautifulSoup(response.content, \"html.parser\")\n",
    "        links = soup.find_all(\"a\", href=url)\n",
    "        if(len(links)<5\n",
    "            return 1\n",
    "        return -1\n",
    "    except:\n",
    "        return -1\n",
    "\n",
    "url = \"https://facebook.com\"\n",
    "inbound_link_count = count_inbond_links(url)\n",
    "\n",
    "print(\"Number of inbound links:\", inbound_link_count)\n"
   ]
  },
  {
   "cell_type": "code",
   "execution_count": null,
   "id": "ec36f05b",
   "metadata": {},
   "outputs": [],
   "source": []
  }
 ],
 "metadata": {
  "kernelspec": {
   "display_name": "Python 3",
   "language": "python",
   "name": "python3"
  },
  "language_info": {
   "codemirror_mode": {
    "name": "ipython",
    "version": 3
   },
   "file_extension": ".py",
   "mimetype": "text/x-python",
   "name": "python",
   "nbconvert_exporter": "python",
   "pygments_lexer": "ipython3",
   "version": "3.10.8"
  }
 },
 "nbformat": 4,
 "nbformat_minor": 5
}
