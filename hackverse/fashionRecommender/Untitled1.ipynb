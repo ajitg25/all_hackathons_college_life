{
 "cells": [
  {
   "cell_type": "code",
   "execution_count": 7,
   "id": "e53bc702",
   "metadata": {},
   "outputs": [
    {
     "name": "stdout",
     "output_type": "stream",
     "text": [
      "                       text\n",
      "0               Hello world\n",
      "1               How are you\n",
      "2  I am fine thank you 3.14\n"
     ]
    },
    {
     "name": "stderr",
     "output_type": "stream",
     "text": [
      "C:\\Users\\ajitg\\AppData\\Local\\Temp\\ipykernel_17904\\534127081.py:9: FutureWarning: The default value of regex will change from True to False in a future version.\n",
      "  df['text'] = df['text'].str.replace('[{}](?<!\\.)'.format(string.punctuation), '')\n",
      "C:\\Users\\ajitg\\AppData\\Local\\Temp\\ipykernel_17904\\534127081.py:12: FutureWarning: The default value of regex will change from True to False in a future version.\n",
      "  df['text'] = df['text'].str.replace('\\.(?!\\d)', '')\n"
     ]
    }
   ],
   "source": [
    "import pandas as pd\n",
    "import string\n",
    "\n",
    "# Create a sample dataframe\n",
    "data = {'text': ['Hello, world!', 'How are you?', 'I am fine, thank you. 3.14.']}\n",
    "df = pd.DataFrame(data)\n",
    "\n",
    "# Remove punctuation marks from the 'text' column, except for decimal points\n",
    "df['text'] = df['text'].str.replace('[{}](?<!\\.)'.format(string.punctuation), '')\n",
    "\n",
    "# Remove full stops after a sentence\n",
    "df['text'] = df['text'].str.replace('\\.(?!\\d)', '')\n",
    "\n",
    "# Check the modified dataframe\n",
    "print(df)"
   ]
  },
  {
   "cell_type": "code",
   "execution_count": null,
   "id": "b7f614c8",
   "metadata": {},
   "outputs": [],
   "source": []
  }
 ],
 "metadata": {
  "kernelspec": {
   "display_name": "Python 3",
   "language": "python",
   "name": "python3"
  },
  "language_info": {
   "codemirror_mode": {
    "name": "ipython",
    "version": 3
   },
   "file_extension": ".py",
   "mimetype": "text/x-python",
   "name": "python",
   "nbconvert_exporter": "python",
   "pygments_lexer": "ipython3",
   "version": "3.10.8"
  }
 },
 "nbformat": 4,
 "nbformat_minor": 5
}
